{
 "cells": [
  {
   "cell_type": "markdown",
   "id": "9970899b",
   "metadata": {},
   "source": [
    "# Introduction to Pandas\n",
    "In this notebook, we will learn the basics of Python's **pandas** library. Pandas is a powerful tool for data manipulation and analysis.\n",
    "\n",
    "We will cover:\n",
    "- Creating and inspecting DataFrames\n",
    "- Selecting and filtering data\n",
    "- Adding and modifying columns\n",
    "- Aggregation and group operations\n",
    "- Handling missing data\n",
    "- Reading from and writing to CSV files"
   ]
  },
  {
   "cell_type": "markdown",
   "id": "345dbcd0",
   "metadata": {},
   "source": [
    "[Docs - DataFrame](https://pandas.pydata.org/docs/reference/api/pandas.DataFrame.html)"
   ]
  },
  {
   "cell_type": "code",
   "execution_count": 25,
   "id": "4a760e77",
   "metadata": {},
   "outputs": [
    {
     "name": "stdout",
     "output_type": "stream",
     "text": [
      "Requirement already satisfied: pandas in /home/fabio/Uni/WS2025/UA/.venv/lib/python3.13/site-packages (2.3.3)\n",
      "Requirement already satisfied: numpy>=1.26.0 in /home/fabio/Uni/WS2025/UA/.venv/lib/python3.13/site-packages (from pandas) (2.3.4)\n",
      "Requirement already satisfied: python-dateutil>=2.8.2 in /home/fabio/Uni/WS2025/UA/.venv/lib/python3.13/site-packages (from pandas) (2.9.0.post0)\n",
      "Requirement already satisfied: pytz>=2020.1 in /home/fabio/Uni/WS2025/UA/.venv/lib/python3.13/site-packages (from pandas) (2025.2)\n",
      "Requirement already satisfied: tzdata>=2022.7 in /home/fabio/Uni/WS2025/UA/.venv/lib/python3.13/site-packages (from pandas) (2025.2)\n",
      "Requirement already satisfied: six>=1.5 in /home/fabio/Uni/WS2025/UA/.venv/lib/python3.13/site-packages (from python-dateutil>=2.8.2->pandas) (1.17.0)\n"
     ]
    }
   ],
   "source": [
    "!pip3 install pandas\n",
    "# import pandas\n",
    "import pandas as pd\n",
    "# from pandas import DataFrame\n",
    "\n",
    "from pathlib import Path\n",
    "\n",
    "linebreaks = '\\n'*2\n",
    "pd.set_option('display.max_rows', None)\n",
    "pd.set_option('display.max_columns', None)\n",
    "pd.set_option('display.width', None)\n",
    "pd.set_option('display.max_colwidth', None)\n"
   ]
  },
  {
   "cell_type": "markdown",
   "id": "cae40783",
   "metadata": {},
   "source": [
    "## 1. Creating DataFrames\n",
    "You can create a DataFrame from a dictionary, list of lists, or read from a CSV file."
   ]
  },
  {
   "cell_type": "code",
   "execution_count": 3,
   "id": "029b7fcd",
   "metadata": {},
   "outputs": [
    {
     "name": "stdout",
     "output_type": "stream",
     "text": [
      "      Name   Age       City\n",
      "0    Alice  24.0     Vienna\n",
      "1      Bob  27.0  Feldkirch\n",
      "2  Charlie  22.0  Feldkirch\n",
      "3    David  32.0    Bregenz\n",
      "4      Eve   NaN       None\n"
     ]
    },
    {
     "data": {
      "text/html": [
       "<div>\n",
       "<style scoped>\n",
       "    .dataframe tbody tr th:only-of-type {\n",
       "        vertical-align: middle;\n",
       "    }\n",
       "\n",
       "    .dataframe tbody tr th {\n",
       "        vertical-align: top;\n",
       "    }\n",
       "\n",
       "    .dataframe thead th {\n",
       "        text-align: right;\n",
       "    }\n",
       "</style>\n",
       "<table border=\"1\" class=\"dataframe\">\n",
       "  <thead>\n",
       "    <tr style=\"text-align: right;\">\n",
       "      <th></th>\n",
       "      <th>Name</th>\n",
       "      <th>Age</th>\n",
       "    </tr>\n",
       "  </thead>\n",
       "  <tbody>\n",
       "    <tr>\n",
       "      <th>100</th>\n",
       "      <td>Alice</td>\n",
       "      <td>24.0</td>\n",
       "    </tr>\n",
       "    <tr>\n",
       "      <th>101</th>\n",
       "      <td>Bob</td>\n",
       "      <td>NaN</td>\n",
       "    </tr>\n",
       "  </tbody>\n",
       "</table>\n",
       "</div>"
      ],
      "text/plain": [
       "      Name   Age\n",
       "100  Alice  24.0\n",
       "101    Bob   NaN"
      ]
     },
     "execution_count": 3,
     "metadata": {},
     "output_type": "execute_result"
    }
   ],
   "source": [
    "data = {\n",
    "    'Name': ['Alice', 'Bob', 'Charlie', 'David', 'Eve'],\n",
    "    'Age': [24, 27, 22, 32, None],\n",
    "    'City': ['Vienna', 'Feldkirch', 'Feldkirch', 'Bregenz', None]\n",
    "}\n",
    "\n",
    "df = pd.DataFrame(data)\n",
    "print(df)\n",
    "\n",
    "df2 = pd.DataFrame([['Alice', 24], ['Bob']], columns=['Name', 'Age'], index=[100, 101])\n",
    "df2"
   ]
  },
  {
   "cell_type": "markdown",
   "id": "ded3f610",
   "metadata": {},
   "source": [
    "## 2. Inspecting DataFrames\n",
    "- `head()`, `tail()` — view first/last rows\n",
    "- `info()` — summary of DataFrame\n",
    "- `describe()` — statistics for numeric columns\n",
    "- `shape` — number of rows and columns\n",
    "- `columns` — list column names"
   ]
  },
  {
   "cell_type": "code",
   "execution_count": 4,
   "id": "128d5dc6",
   "metadata": {},
   "outputs": [
    {
     "name": "stdout",
     "output_type": "stream",
     "text": [
      "df.head(2):\n",
      "    Name   Age       City\n",
      "0  Alice  24.0     Vienna\n",
      "1    Bob  27.0  Feldkirch\n",
      "\n",
      "\n",
      "df.tail(2):\n",
      "    Name   Age     City\n",
      "3  David  32.0  Bregenz\n",
      "4    Eve   NaN     None\n",
      "\n",
      "\n",
      "df.info(): \n",
      "<class 'pandas.core.frame.DataFrame'>\n",
      "RangeIndex: 5 entries, 0 to 4\n",
      "Data columns (total 3 columns):\n",
      " #   Column  Non-Null Count  Dtype  \n",
      "---  ------  --------------  -----  \n",
      " 0   Name    5 non-null      object \n",
      " 1   Age     4 non-null      float64\n",
      " 2   City    4 non-null      object \n",
      "dtypes: float64(1), object(2)\n",
      "memory usage: 252.0+ bytes\n",
      "\n",
      "\n",
      "\n",
      "df.describe():\n",
      "             Age\n",
      "count   4.000000\n",
      "mean   26.250000\n",
      "std     4.349329\n",
      "min    22.000000\n",
      "25%    23.500000\n",
      "50%    25.500000\n",
      "75%    28.250000\n",
      "max    32.000000\n",
      "\n",
      "\n",
      "df.shape: (5, 3)\n",
      "\n",
      "\n",
      "df.columns: Index(['Name', 'Age', 'City'], dtype='object')\n"
     ]
    }
   ],
   "source": [
    "print(f\"df.head(2):\\n{df.head(2)}{linebreaks}\")\n",
    "print(f\"df.tail(2):\\n{df.tail(2)}{linebreaks}\")\n",
    "\n",
    "print(f\"df.info(): \")\n",
    "df.info()\n",
    "print(f\"{linebreaks}\")\n",
    "\n",
    "print(f\"df.describe():\\n{df.describe()}{linebreaks}\")\n",
    "print(f\"df.shape: {df.shape}{linebreaks}\")\n",
    "print(f\"df.columns: {df.columns}\")\n",
    "\n"
   ]
  },
  {
   "cell_type": "code",
   "execution_count": 5,
   "id": "200ee905",
   "metadata": {},
   "outputs": [
    {
     "data": {
      "text/html": [
       "<div>\n",
       "<style scoped>\n",
       "    .dataframe tbody tr th:only-of-type {\n",
       "        vertical-align: middle;\n",
       "    }\n",
       "\n",
       "    .dataframe tbody tr th {\n",
       "        vertical-align: top;\n",
       "    }\n",
       "\n",
       "    .dataframe thead th {\n",
       "        text-align: right;\n",
       "    }\n",
       "</style>\n",
       "<table border=\"1\" class=\"dataframe\">\n",
       "  <thead>\n",
       "    <tr style=\"text-align: right;\">\n",
       "      <th></th>\n",
       "      <th>Age</th>\n",
       "      <th>Salary</th>\n",
       "      <th>Bonus</th>\n",
       "    </tr>\n",
       "  </thead>\n",
       "  <tbody>\n",
       "    <tr>\n",
       "      <th>count</th>\n",
       "      <td>5.000000</td>\n",
       "      <td>5.000000</td>\n",
       "      <td>5.000000</td>\n",
       "    </tr>\n",
       "    <tr>\n",
       "      <th>mean</th>\n",
       "      <td>26.800000</td>\n",
       "      <td>55400.000000</td>\n",
       "      <td>5500.000000</td>\n",
       "    </tr>\n",
       "    <tr>\n",
       "      <th>std</th>\n",
       "      <td>3.962323</td>\n",
       "      <td>9787.747443</td>\n",
       "      <td>1118.033989</td>\n",
       "    </tr>\n",
       "    <tr>\n",
       "      <th>min</th>\n",
       "      <td>22.000000</td>\n",
       "      <td>45000.000000</td>\n",
       "      <td>4000.000000</td>\n",
       "    </tr>\n",
       "    <tr>\n",
       "      <th>25%</th>\n",
       "      <td>24.000000</td>\n",
       "      <td>50000.000000</td>\n",
       "      <td>5000.000000</td>\n",
       "    </tr>\n",
       "    <tr>\n",
       "      <th>50%</th>\n",
       "      <td>27.000000</td>\n",
       "      <td>52000.000000</td>\n",
       "      <td>5500.000000</td>\n",
       "    </tr>\n",
       "    <tr>\n",
       "      <th>75%</th>\n",
       "      <td>29.000000</td>\n",
       "      <td>60000.000000</td>\n",
       "      <td>6000.000000</td>\n",
       "    </tr>\n",
       "    <tr>\n",
       "      <th>max</th>\n",
       "      <td>32.000000</td>\n",
       "      <td>70000.000000</td>\n",
       "      <td>7000.000000</td>\n",
       "    </tr>\n",
       "  </tbody>\n",
       "</table>\n",
       "</div>"
      ],
      "text/plain": [
       "             Age        Salary        Bonus\n",
       "count   5.000000      5.000000     5.000000\n",
       "mean   26.800000  55400.000000  5500.000000\n",
       "std     3.962323   9787.747443  1118.033989\n",
       "min    22.000000  45000.000000  4000.000000\n",
       "25%    24.000000  50000.000000  5000.000000\n",
       "50%    27.000000  52000.000000  5500.000000\n",
       "75%    29.000000  60000.000000  6000.000000\n",
       "max    32.000000  70000.000000  7000.000000"
      ]
     },
     "execution_count": 5,
     "metadata": {},
     "output_type": "execute_result"
    }
   ],
   "source": [
    "data = {\n",
    "    'Name': ['Alice', 'Bob', 'Charlie', 'David', 'Eva'],\n",
    "    'Age': [24, 27, 22, 32, 29],\n",
    "    'Salary': [50000, 60000, 45000, 70000, 52000],\n",
    "    'Bonus': [5000, 6000, 4000, 7000, 5500]\n",
    "}\n",
    "df3 = pd.DataFrame(data)\n",
    "df3.describe()"
   ]
  },
  {
   "cell_type": "markdown",
   "id": "c0c4def6",
   "metadata": {},
   "source": [
    "## 3. Selecting and Filtering Data\n",
    "- Selecting columns: `df['Column']` or `df.Column`\n",
    "- Selecting rows: `iloc[]` (by index), `loc[]` (by label)\n",
    "- Filtering: using boolean conditions"
   ]
  },
  {
   "cell_type": "code",
   "execution_count": 6,
   "id": "241da088",
   "metadata": {},
   "outputs": [
    {
     "name": "stdout",
     "output_type": "stream",
     "text": [
      "name:\n",
      "0      Alice\n",
      "1        Bob\n",
      "2    Charlie\n",
      "3      David\n",
      "4        Eve\n",
      "Name: Name, dtype: object\n",
      "type:\n",
      "<class 'pandas.core.series.Series'>\n",
      "\n",
      "\n",
      "row:\n",
      "Name          Bob\n",
      "Age          27.0\n",
      "City    Feldkirch\n",
      "Name: 1, dtype: object\n",
      "row:\n",
      "<class 'pandas.core.series.Series'>\n"
     ]
    }
   ],
   "source": [
    "name = df['Name']\n",
    "print(f\"name:\\n{name}\")\n",
    "print(f\"type:\\n{type(name)}{linebreaks}\")\n",
    "\n",
    "\n",
    "row = df.iloc[1]\n",
    "print(f\"row:\\n{row}\")\n",
    "print(f\"row:\\n{type(row)}\")"
   ]
  },
  {
   "cell_type": "markdown",
   "id": "54df0e80",
   "metadata": {},
   "source": [
    "## 4. loc vs iloc"
   ]
  },
  {
   "cell_type": "markdown",
   "id": "6da9ee07",
   "metadata": {},
   "source": [
    "`loc` gets rows (and/or columns) with particular labels. <br>\n",
    "`iloc` gets rows (and/or columns) at integer locations."
   ]
  },
  {
   "cell_type": "code",
   "execution_count": 7,
   "metadata": {},
   "outputs": [
    {
     "name": "stdout",
     "output_type": "stream",
     "text": [
      "49    a\n",
      "48    b\n",
      "47    c\n",
      "0     d\n",
      "1     e\n",
      "2     f\n",
      "G     g\n",
      "dtype: object\n",
      "\n",
      "-----loc------\n",
      "loc: d\n",
      "loc: f\n",
      "loc: g\n",
      "\n",
      "-----iloc-----\n",
      "iloc: a\n",
      "iloc: c\n",
      "\n",
      "--------------\n",
      "0    d\n",
      "2    f\n",
      "dtype: object\n"
     ]
    },
    {
     "data": {
      "text/plain": [
       "49    a\n",
       "47    c\n",
       "dtype: object"
      ]
     },
     "execution_count": 7,
     "metadata": {},
     "output_type": "execute_result"
    }
   ],
   "source": [
    "s = pd.Series(list(\"abcdefg\"), index=[49, 48, 47, 0, 1, 2, \"G\"]) \n",
    "print(f\"{s}\\n\")\n",
    "\n",
    "print(f\"{'-'*5}loc{'-'*6}\")\n",
    "print(f\"loc: {s.loc[0]}\")\n",
    "print(f\"loc: {s.loc[2]}\")\n",
    "print(f\"loc: {s.loc[\"G\"]}\\n\")\n",
    "\n",
    "print(f\"{'-'*5}iloc{'-'*5}\")\n",
    "print(f\"iloc: {s.iloc[0]}\")\n",
    "print(f\"iloc: {s.iloc[2]}\\n\")\n",
    "\n",
    "\n",
    "print(f\"{'-'*14}\")\n",
    "print(s.loc[[0, 2]])\n",
    "s.iloc[[0, 2]]\n"
   ]
  },
  {
   "cell_type": "markdown",
   "id": "312ea2ae",
   "metadata": {},
   "source": [
    "## 5 - Filter"
   ]
  },
  {
   "cell_type": "code",
   "execution_count": 8,
   "id": "ee3f296e",
   "metadata": {},
   "outputs": [
    {
     "name": "stdout",
     "output_type": "stream",
     "text": [
      "[0    False\n",
      "1     True\n",
      "2    False\n",
      "3     True\n",
      "4    False\n",
      "Name: Age, dtype: bool]\n",
      "\n",
      "\n",
      "type(new_df): <class 'pandas.core.frame.DataFrame'>\n",
      "\n"
     ]
    },
    {
     "data": {
      "text/html": [
       "<div>\n",
       "<style scoped>\n",
       "    .dataframe tbody tr th:only-of-type {\n",
       "        vertical-align: middle;\n",
       "    }\n",
       "\n",
       "    .dataframe tbody tr th {\n",
       "        vertical-align: top;\n",
       "    }\n",
       "\n",
       "    .dataframe thead th {\n",
       "        text-align: right;\n",
       "    }\n",
       "</style>\n",
       "<table border=\"1\" class=\"dataframe\">\n",
       "  <thead>\n",
       "    <tr style=\"text-align: right;\">\n",
       "      <th></th>\n",
       "      <th>Name</th>\n",
       "      <th>Age</th>\n",
       "      <th>City</th>\n",
       "    </tr>\n",
       "  </thead>\n",
       "  <tbody>\n",
       "    <tr>\n",
       "      <th>1</th>\n",
       "      <td>Bob</td>\n",
       "      <td>27.0</td>\n",
       "      <td>Feldkirch</td>\n",
       "    </tr>\n",
       "    <tr>\n",
       "      <th>3</th>\n",
       "      <td>David</td>\n",
       "      <td>32.0</td>\n",
       "      <td>Bregenz</td>\n",
       "    </tr>\n",
       "  </tbody>\n",
       "</table>\n",
       "</div>"
      ],
      "text/plain": [
       "    Name   Age       City\n",
       "1    Bob  27.0  Feldkirch\n",
       "3  David  32.0    Bregenz"
      ]
     },
     "execution_count": 8,
     "metadata": {},
     "output_type": "execute_result"
    }
   ],
   "source": [
    "print(f\"{[df['Age'] > 25]}\\n\\n\")\n",
    " \n",
    "new_df = df[df['Age'] > 25]\n",
    "print(f\"type(new_df): {type(new_df)}\\n\")\n",
    "new_df"
   ]
  },
  {
   "cell_type": "code",
   "execution_count": 9,
   "id": "d413e8b3",
   "metadata": {},
   "outputs": [
    {
     "name": "stdout",
     "output_type": "stream",
     "text": [
      "    Name   Age     City\n",
      "3  David  32.0  Bregenz\n"
     ]
    },
    {
     "data": {
      "text/html": [
       "<div>\n",
       "<style scoped>\n",
       "    .dataframe tbody tr th:only-of-type {\n",
       "        vertical-align: middle;\n",
       "    }\n",
       "\n",
       "    .dataframe tbody tr th {\n",
       "        vertical-align: top;\n",
       "    }\n",
       "\n",
       "    .dataframe thead th {\n",
       "        text-align: right;\n",
       "    }\n",
       "</style>\n",
       "<table border=\"1\" class=\"dataframe\">\n",
       "  <thead>\n",
       "    <tr style=\"text-align: right;\">\n",
       "      <th></th>\n",
       "      <th>Name</th>\n",
       "      <th>Age</th>\n",
       "      <th>City</th>\n",
       "    </tr>\n",
       "  </thead>\n",
       "  <tbody>\n",
       "    <tr>\n",
       "      <th>0</th>\n",
       "      <td>Alice</td>\n",
       "      <td>24.0</td>\n",
       "      <td>Vienna</td>\n",
       "    </tr>\n",
       "    <tr>\n",
       "      <th>2</th>\n",
       "      <td>Charlie</td>\n",
       "      <td>22.0</td>\n",
       "      <td>Feldkirch</td>\n",
       "    </tr>\n",
       "  </tbody>\n",
       "</table>\n",
       "</div>"
      ],
      "text/plain": [
       "      Name   Age       City\n",
       "0    Alice  24.0     Vienna\n",
       "2  Charlie  22.0  Feldkirch"
      ]
     },
     "execution_count": 9,
     "metadata": {},
     "output_type": "execute_result"
    }
   ],
   "source": [
    "print(df[(df['Age'] > 25) & (df['City'] == \"Bregenz\")])\n",
    "df[(df['Age'] < 25) | (df['City'] == \"Vienna\")]"
   ]
  },
  {
   "cell_type": "markdown",
   "id": "b14cb2fb",
   "metadata": {},
   "source": [
    "## 6. Adding and Modifying Columns"
   ]
  },
  {
   "cell_type": "code",
   "execution_count": 10,
   "id": "9cfb1a0b",
   "metadata": {},
   "outputs": [
    {
     "data": {
      "text/html": [
       "<div>\n",
       "<style scoped>\n",
       "    .dataframe tbody tr th:only-of-type {\n",
       "        vertical-align: middle;\n",
       "    }\n",
       "\n",
       "    .dataframe tbody tr th {\n",
       "        vertical-align: top;\n",
       "    }\n",
       "\n",
       "    .dataframe thead th {\n",
       "        text-align: right;\n",
       "    }\n",
       "</style>\n",
       "<table border=\"1\" class=\"dataframe\">\n",
       "  <thead>\n",
       "    <tr style=\"text-align: right;\">\n",
       "      <th></th>\n",
       "      <th>Name</th>\n",
       "      <th>Age</th>\n",
       "      <th>City</th>\n",
       "    </tr>\n",
       "  </thead>\n",
       "  <tbody>\n",
       "    <tr>\n",
       "      <th>0</th>\n",
       "      <td>Alice</td>\n",
       "      <td>24.0</td>\n",
       "      <td>Vienna</td>\n",
       "    </tr>\n",
       "    <tr>\n",
       "      <th>1</th>\n",
       "      <td>Bob</td>\n",
       "      <td>27.0</td>\n",
       "      <td>Feldkirch</td>\n",
       "    </tr>\n",
       "    <tr>\n",
       "      <th>2</th>\n",
       "      <td>Charlie</td>\n",
       "      <td>22.0</td>\n",
       "      <td>Feldkirch</td>\n",
       "    </tr>\n",
       "    <tr>\n",
       "      <th>3</th>\n",
       "      <td>David</td>\n",
       "      <td>32.0</td>\n",
       "      <td>Bregenz</td>\n",
       "    </tr>\n",
       "    <tr>\n",
       "      <th>4</th>\n",
       "      <td>Eve</td>\n",
       "      <td>NaN</td>\n",
       "      <td>None</td>\n",
       "    </tr>\n",
       "  </tbody>\n",
       "</table>\n",
       "</div>"
      ],
      "text/plain": [
       "      Name   Age       City\n",
       "0    Alice  24.0     Vienna\n",
       "1      Bob  27.0  Feldkirch\n",
       "2  Charlie  22.0  Feldkirch\n",
       "3    David  32.0    Bregenz\n",
       "4      Eve   NaN       None"
      ]
     },
     "execution_count": 10,
     "metadata": {},
     "output_type": "execute_result"
    }
   ],
   "source": [
    "df"
   ]
  },
  {
   "cell_type": "code",
   "execution_count": 11,
   "id": "23f45a1f",
   "metadata": {},
   "outputs": [
    {
     "name": "stdout",
     "output_type": "stream",
     "text": [
      "      Name   Age       City  Student\n",
      "0    Alice  24.0     Vienna     True\n",
      "1      Bob  27.0  Feldkirch    False\n",
      "2  Charlie  22.0  Feldkirch     True\n",
      "3    David  32.0    Bregenz    False\n",
      "4      Eve   NaN       None    False\n"
     ]
    },
    {
     "data": {
      "text/html": [
       "<div>\n",
       "<style scoped>\n",
       "    .dataframe tbody tr th:only-of-type {\n",
       "        vertical-align: middle;\n",
       "    }\n",
       "\n",
       "    .dataframe tbody tr th {\n",
       "        vertical-align: top;\n",
       "    }\n",
       "\n",
       "    .dataframe thead th {\n",
       "        text-align: right;\n",
       "    }\n",
       "</style>\n",
       "<table border=\"1\" class=\"dataframe\">\n",
       "  <thead>\n",
       "    <tr style=\"text-align: right;\">\n",
       "      <th></th>\n",
       "      <th>Name</th>\n",
       "      <th>Age</th>\n",
       "      <th>City</th>\n",
       "      <th>Student</th>\n",
       "    </tr>\n",
       "  </thead>\n",
       "  <tbody>\n",
       "    <tr>\n",
       "      <th>0</th>\n",
       "      <td>Alice</td>\n",
       "      <td>25.0</td>\n",
       "      <td>Vienna</td>\n",
       "      <td>True</td>\n",
       "    </tr>\n",
       "    <tr>\n",
       "      <th>1</th>\n",
       "      <td>Bob</td>\n",
       "      <td>28.0</td>\n",
       "      <td>Feldkirch</td>\n",
       "      <td>False</td>\n",
       "    </tr>\n",
       "    <tr>\n",
       "      <th>2</th>\n",
       "      <td>Charlie</td>\n",
       "      <td>23.0</td>\n",
       "      <td>Feldkirch</td>\n",
       "      <td>True</td>\n",
       "    </tr>\n",
       "    <tr>\n",
       "      <th>3</th>\n",
       "      <td>David</td>\n",
       "      <td>33.0</td>\n",
       "      <td>Bregenz</td>\n",
       "      <td>False</td>\n",
       "    </tr>\n",
       "    <tr>\n",
       "      <th>4</th>\n",
       "      <td>Eve</td>\n",
       "      <td>NaN</td>\n",
       "      <td>None</td>\n",
       "      <td>False</td>\n",
       "    </tr>\n",
       "  </tbody>\n",
       "</table>\n",
       "</div>"
      ],
      "text/plain": [
       "      Name   Age       City  Student\n",
       "0    Alice  25.0     Vienna     True\n",
       "1      Bob  28.0  Feldkirch    False\n",
       "2  Charlie  23.0  Feldkirch     True\n",
       "3    David  33.0    Bregenz    False\n",
       "4      Eve   NaN       None    False"
      ]
     },
     "execution_count": 11,
     "metadata": {},
     "output_type": "execute_result"
    }
   ],
   "source": [
    "df['Student'] = [True, False, True, False, False]\n",
    "print(df)\n",
    "\n",
    "df['Age'] = df['Age'] + 1\n",
    "df"
   ]
  },
  {
   "cell_type": "code",
   "execution_count": 12,
   "id": "b81c9a42",
   "metadata": {},
   "outputs": [
    {
     "name": "stdout",
     "output_type": "stream",
     "text": [
      "      Name   Age            City  Student\n",
      "0    Alice  25.0     Vienna text     True\n",
      "1      Bob  28.0  Feldkirch text    False\n",
      "2  Charlie  23.0  Feldkirch text     True\n",
      "3    David  33.0    Bregenz text    False\n",
      "4      Eve   NaN    Unknown text    False\n"
     ]
    }
   ],
   "source": [
    "df_new = df.copy()\n",
    "df_new['City'] = df_new['City'].fillna('Unknown') + \" text\"\n",
    "print(df_new)\n",
    "\n",
    "# df_str_concat = df.assign(City=df['City'].fillna('Unknown') + \" text\")\n",
    "# print(df_str_concat)"
   ]
  },
  {
   "cell_type": "code",
   "execution_count": 13,
   "id": "4ba9f255",
   "metadata": {},
   "outputs": [
    {
     "data": {
      "text/html": [
       "<div>\n",
       "<style scoped>\n",
       "    .dataframe tbody tr th:only-of-type {\n",
       "        vertical-align: middle;\n",
       "    }\n",
       "\n",
       "    .dataframe tbody tr th {\n",
       "        vertical-align: top;\n",
       "    }\n",
       "\n",
       "    .dataframe thead th {\n",
       "        text-align: right;\n",
       "    }\n",
       "</style>\n",
       "<table border=\"1\" class=\"dataframe\">\n",
       "  <thead>\n",
       "    <tr style=\"text-align: right;\">\n",
       "      <th></th>\n",
       "      <th>Name</th>\n",
       "      <th>Age</th>\n",
       "      <th>City</th>\n",
       "      <th>Student</th>\n",
       "    </tr>\n",
       "  </thead>\n",
       "  <tbody>\n",
       "    <tr>\n",
       "      <th>1</th>\n",
       "      <td>Bob</td>\n",
       "      <td>28.0</td>\n",
       "      <td>Feldkirch</td>\n",
       "      <td>False</td>\n",
       "    </tr>\n",
       "  </tbody>\n",
       "</table>\n",
       "</div>"
      ],
      "text/plain": [
       "  Name   Age       City  Student\n",
       "1  Bob  28.0  Feldkirch    False"
      ]
     },
     "execution_count": 13,
     "metadata": {},
     "output_type": "execute_result"
    }
   ],
   "source": [
    "df[df['Name'].str.contains('o')]"
   ]
  },
  {
   "cell_type": "code",
   "execution_count": 14,
   "id": "a002f954",
   "metadata": {},
   "outputs": [
    {
     "name": "stdout",
     "output_type": "stream",
     "text": [
      "    Name   Age     City  Student\n",
      "3  David  33.0  Bregenz    False\n"
     ]
    },
    {
     "data": {
      "text/html": [
       "<div>\n",
       "<style scoped>\n",
       "    .dataframe tbody tr th:only-of-type {\n",
       "        vertical-align: middle;\n",
       "    }\n",
       "\n",
       "    .dataframe tbody tr th {\n",
       "        vertical-align: top;\n",
       "    }\n",
       "\n",
       "    .dataframe thead th {\n",
       "        text-align: right;\n",
       "    }\n",
       "</style>\n",
       "<table border=\"1\" class=\"dataframe\">\n",
       "  <thead>\n",
       "    <tr style=\"text-align: right;\">\n",
       "      <th></th>\n",
       "      <th>Name</th>\n",
       "      <th>Age</th>\n",
       "      <th>City</th>\n",
       "      <th>Student</th>\n",
       "    </tr>\n",
       "  </thead>\n",
       "  <tbody>\n",
       "    <tr>\n",
       "      <th>0</th>\n",
       "      <td>Alice</td>\n",
       "      <td>25.0</td>\n",
       "      <td>Vienna</td>\n",
       "      <td>True</td>\n",
       "    </tr>\n",
       "    <tr>\n",
       "      <th>2</th>\n",
       "      <td>Charlie</td>\n",
       "      <td>23.0</td>\n",
       "      <td>Feldkirch</td>\n",
       "      <td>True</td>\n",
       "    </tr>\n",
       "    <tr>\n",
       "      <th>3</th>\n",
       "      <td>David</td>\n",
       "      <td>33.0</td>\n",
       "      <td>Bregenz</td>\n",
       "      <td>False</td>\n",
       "    </tr>\n",
       "  </tbody>\n",
       "</table>\n",
       "</div>"
      ],
      "text/plain": [
       "      Name   Age       City  Student\n",
       "0    Alice  25.0     Vienna     True\n",
       "2  Charlie  23.0  Feldkirch     True\n",
       "3    David  33.0    Bregenz    False"
      ]
     },
     "execution_count": 14,
     "metadata": {},
     "output_type": "execute_result"
    }
   ],
   "source": [
    "print(df[df['City'].str.contains('Br', na=False)])\n",
    "\n",
    "df[df['Name'].apply(lambda x: len(x) > 3)]"
   ]
  },
  {
   "cell_type": "code",
   "execution_count": 15,
   "id": "584b53b7",
   "metadata": {},
   "outputs": [],
   "source": [
    "# df.drop([1, 3])"
   ]
  },
  {
   "cell_type": "markdown",
   "id": "a35ebf8e",
   "metadata": {},
   "source": [
    "## 7. Aggregation and Group Operations\n",
    "- `mean()`, `sum()`, `min()`, `max()` — basic statistics\n",
    "- `groupby()` — group data by column and aggregate"
   ]
  },
  {
   "cell_type": "code",
   "execution_count": 16,
   "id": "7499f6b1",
   "metadata": {},
   "outputs": [
    {
     "name": "stdout",
     "output_type": "stream",
     "text": [
      "27.25\n",
      "\n",
      "City\n",
      "Bregenz      33.0\n",
      "Feldkirch    25.5\n",
      "Vienna       25.0\n",
      "Name: Age, dtype: float64\n",
      "\n",
      "<pandas.core.groupby.generic.SeriesGroupBy object at 0x7f31314349d0>\n"
     ]
    },
    {
     "data": {
      "text/plain": [
       "[(23.0,\n",
       "  2    Feldkirch\n",
       "  Name: City, dtype: object),\n",
       " (25.0,\n",
       "  0    Vienna\n",
       "  Name: City, dtype: object),\n",
       " (28.0,\n",
       "  1    Feldkirch\n",
       "  Name: City, dtype: object),\n",
       " (33.0,\n",
       "  3    Bregenz\n",
       "  Name: City, dtype: object)]"
      ]
     },
     "execution_count": 16,
     "metadata": {},
     "output_type": "execute_result"
    }
   ],
   "source": [
    "print(f\"{df['Age'].mean()}\\n\")\n",
    "print(f\"{df.groupby('City')['Age'].mean()}\\n\")\n",
    "\n",
    "\n",
    "gen_object = df.groupby('Age')['City']\n",
    "print(gen_object)\n",
    "# for age, cities in df.groupby('Age')['City']:\n",
    "#     print(f\"Age: {age}\")\n",
    "#     print(cities)\n",
    "\n",
    "[obj for obj in gen_object]"
   ]
  },
  {
   "cell_type": "code",
   "execution_count": 17,
   "id": "10d4dc89",
   "metadata": {},
   "outputs": [
    {
     "name": "stdout",
     "output_type": "stream",
     "text": [
      "Average age: 27.25\n",
      "\n",
      "City\n",
      "Bregenz      33.0\n",
      "Feldkirch    25.5\n",
      "Vienna       25.0\n",
      "Name: Age, dtype: float64\n",
      "\n",
      "Student\n",
      "False    30.5\n",
      "True     24.0\n",
      "Name: Age, dtype: float64\n",
      "\n",
      "           mean  count\n",
      "City                  \n",
      "Bregenz    33.0      1\n",
      "Feldkirch  25.5      2\n",
      "Vienna     25.0      1\n",
      "\n",
      "            Age  Student\n",
      "City                    \n",
      "Bregenz    33.0        0\n",
      "Feldkirch  25.5        1\n",
      "Vienna     25.0        1\n",
      "\n"
     ]
    }
   ],
   "source": [
    "print(f\"Average age: {df['Age'].mean()}\\n\")                     \n",
    "print(f\"{df.groupby('City')['Age'].mean()}\\n\")                     \n",
    "print(f\"{df.groupby('Student')['Age'].mean()}\\n\")                  \n",
    "print(f\"{df.groupby('City')['Age'].agg(['mean', 'count'])}\\n\")     \n",
    "print(f\"{df.groupby('City').agg({'Age': 'mean', 'Student': 'sum'})}\\n\")  \n"
   ]
  },
  {
   "cell_type": "markdown",
   "id": "5a3a5d24",
   "metadata": {},
   "source": [
    "## 8. Handling Missing Data\n",
    "- `isnull()` — check for missing values\n",
    "- `dropna()` — remove missing data\n",
    "- `fillna()` — fill missing data"
   ]
  },
  {
   "cell_type": "code",
   "execution_count": 18,
   "id": "1c6a220a",
   "metadata": {},
   "outputs": [
    {
     "name": "stdout",
     "output_type": "stream",
     "text": [
      "    Name    Age   City  Student\n",
      "0  False  False  False    False\n",
      "1  False  False  False    False\n",
      "2  False  False  False    False\n",
      "3  False  False  False    False\n",
      "4  False   True   True    False\n",
      "\n",
      "      Name    Age       City  Student\n",
      "0    Alice  25.00     Vienna     True\n",
      "1      Bob  28.00  Feldkirch    False\n",
      "2  Charlie  23.00  Feldkirch     True\n",
      "3    David  33.00    Bregenz    False\n",
      "4      Eve  27.25       None    False\n",
      "\n",
      "      Name    Age       City  Student\n",
      "0    Alice  25.00     Vienna     True\n",
      "1      Bob  28.00  Feldkirch    False\n",
      "2  Charlie  23.00  Feldkirch     True\n",
      "3    David  33.00    Bregenz    False\n",
      "4      Eve  27.25        NaN    False\n",
      "\n",
      "      Name    Age       City  Student\n",
      "0    Alice  25.00     Vienna     True\n",
      "1      Bob  28.00  Feldkirch    False\n",
      "2  Charlie  23.00  Feldkirch     True\n",
      "3    David  33.00    Bregenz    False\n",
      "4      Eve  27.25    Unknown    False\n"
     ]
    }
   ],
   "source": [
    "print(f\"{df.isnull()}\\n\")\n",
    "\n",
    "df['Age'] = df['Age'].fillna(df['Age'].mean())\n",
    "print(f\"{df}\\n\")\n",
    "\n",
    "df['City'] = df['City'].dropna()\n",
    "print(f\"{df}\\n\")\n",
    "\n",
    "df['City'] = df['City'].fillna(\"Unknown\")\n",
    "print(df)"
   ]
  },
  {
   "cell_type": "markdown",
   "id": "1b6a02b2",
   "metadata": {},
   "source": [
    "## 9. Reading and Writing CSV Files\n",
    "- `read_csv()` — read CSV\n",
    "- `to_csv()` — write CSV"
   ]
  },
  {
   "cell_type": "code",
   "execution_count": 26,
   "id": "39e32ba7",
   "metadata": {},
   "outputs": [
    {
     "data": {
      "text/html": [
       "<div>\n",
       "<style scoped>\n",
       "    .dataframe tbody tr th:only-of-type {\n",
       "        vertical-align: middle;\n",
       "    }\n",
       "\n",
       "    .dataframe tbody tr th {\n",
       "        vertical-align: top;\n",
       "    }\n",
       "\n",
       "    .dataframe thead th {\n",
       "        text-align: right;\n",
       "    }\n",
       "</style>\n",
       "<table border=\"1\" class=\"dataframe\">\n",
       "  <thead>\n",
       "    <tr style=\"text-align: right;\">\n",
       "      <th></th>\n",
       "      <th>Name</th>\n",
       "      <th>Age</th>\n",
       "      <th>City</th>\n",
       "      <th>Student</th>\n",
       "    </tr>\n",
       "  </thead>\n",
       "  <tbody>\n",
       "    <tr>\n",
       "      <th>0</th>\n",
       "      <td>Alice</td>\n",
       "      <td>25.00</td>\n",
       "      <td>Vienna</td>\n",
       "      <td>True</td>\n",
       "    </tr>\n",
       "    <tr>\n",
       "      <th>1</th>\n",
       "      <td>Bob</td>\n",
       "      <td>28.00</td>\n",
       "      <td>Feldkirch</td>\n",
       "      <td>False</td>\n",
       "    </tr>\n",
       "    <tr>\n",
       "      <th>2</th>\n",
       "      <td>Charlie</td>\n",
       "      <td>23.00</td>\n",
       "      <td>Feldkirch</td>\n",
       "      <td>True</td>\n",
       "    </tr>\n",
       "    <tr>\n",
       "      <th>3</th>\n",
       "      <td>David</td>\n",
       "      <td>33.00</td>\n",
       "      <td>Bregenz</td>\n",
       "      <td>False</td>\n",
       "    </tr>\n",
       "    <tr>\n",
       "      <th>4</th>\n",
       "      <td>Eve</td>\n",
       "      <td>27.25</td>\n",
       "      <td>Unknown</td>\n",
       "      <td>False</td>\n",
       "    </tr>\n",
       "  </tbody>\n",
       "</table>\n",
       "</div>"
      ],
      "text/plain": [
       "      Name    Age       City  Student\n",
       "0    Alice  25.00     Vienna     True\n",
       "1      Bob  28.00  Feldkirch    False\n",
       "2  Charlie  23.00  Feldkirch     True\n",
       "3    David  33.00    Bregenz    False\n",
       "4      Eve  27.25    Unknown    False"
      ]
     },
     "execution_count": 26,
     "metadata": {},
     "output_type": "execute_result"
    }
   ],
   "source": [
    "df.to_csv(Path('data/example.csv'), index=False)\n",
    "# sep, columns, header, encoding, na_rep, float_format, line_terminator, quotechar, dateformat\n",
    "\n",
    "df2 = pd.read_csv(Path('data/example.csv'))\n",
    "# sep, header, names, usecols, index_col, nrows, skiprows, na_values, dtype, parse_dates, encoding\n",
    "df2"
   ]
  },
  {
   "cell_type": "code",
   "execution_count": 20,
   "id": "6473efb4",
   "metadata": {},
   "outputs": [
    {
     "name": "stdout",
     "output_type": "stream",
     "text": [
      "True\n"
     ]
    }
   ],
   "source": [
    "df.to_csv('example.csv', index=False, sep=';')\n",
    "df_loaded = pd.read_csv('example.csv', sep=';')\n",
    "print(df_loaded.equals(df))"
   ]
  },
  {
   "cell_type": "markdown",
   "id": "1e5f29d1",
   "metadata": {},
   "source": [
    "## 10. Join dataframes"
   ]
  },
  {
   "cell_type": "code",
   "execution_count": 21,
   "id": "c3ad6ce4",
   "metadata": {},
   "outputs": [
    {
     "data": {
      "text/html": [
       "<div>\n",
       "<style scoped>\n",
       "    .dataframe tbody tr th:only-of-type {\n",
       "        vertical-align: middle;\n",
       "    }\n",
       "\n",
       "    .dataframe tbody tr th {\n",
       "        vertical-align: top;\n",
       "    }\n",
       "\n",
       "    .dataframe thead th {\n",
       "        text-align: right;\n",
       "    }\n",
       "</style>\n",
       "<table border=\"1\" class=\"dataframe\">\n",
       "  <thead>\n",
       "    <tr style=\"text-align: right;\">\n",
       "      <th></th>\n",
       "      <th>ID</th>\n",
       "      <th>Name</th>\n",
       "      <th>Age</th>\n",
       "      <th>City</th>\n",
       "    </tr>\n",
       "  </thead>\n",
       "  <tbody>\n",
       "    <tr>\n",
       "      <th>0</th>\n",
       "      <td>1</td>\n",
       "      <td>Alice</td>\n",
       "      <td>25</td>\n",
       "      <td>Vienna</td>\n",
       "    </tr>\n",
       "    <tr>\n",
       "      <th>1</th>\n",
       "      <td>2</td>\n",
       "      <td>Bob</td>\n",
       "      <td>28</td>\n",
       "      <td>Linz</td>\n",
       "    </tr>\n",
       "  </tbody>\n",
       "</table>\n",
       "</div>"
      ],
      "text/plain": [
       "   ID   Name  Age    City\n",
       "0   1  Alice   25  Vienna\n",
       "1   2    Bob   28    Linz"
      ]
     },
     "execution_count": 21,
     "metadata": {},
     "output_type": "execute_result"
    }
   ],
   "source": [
    "# Share a column\n",
    "first_df = pd.DataFrame({\n",
    "    'ID': [1, 2, 3],\n",
    "    'Name': ['Alice', 'Bob', 'Charlie'],\n",
    "    'Age': [25, 28, 23]\n",
    "})\n",
    "\n",
    "second_df = pd.DataFrame({\n",
    "    'ID': [1, 2, 4],\n",
    "    'City': ['Vienna', 'Linz', 'Graz']\n",
    "})\n",
    "\n",
    "df_inner = pd.merge(first_df, second_df, on='ID', how='inner') # left, right,, outer\n",
    "df_inner"
   ]
  },
  {
   "cell_type": "code",
   "execution_count": 22,
   "id": "9a8fa70c",
   "metadata": {},
   "outputs": [
    {
     "data": {
      "text/html": [
       "<div>\n",
       "<style scoped>\n",
       "    .dataframe tbody tr th:only-of-type {\n",
       "        vertical-align: middle;\n",
       "    }\n",
       "\n",
       "    .dataframe tbody tr th {\n",
       "        vertical-align: top;\n",
       "    }\n",
       "\n",
       "    .dataframe thead th {\n",
       "        text-align: right;\n",
       "    }\n",
       "</style>\n",
       "<table border=\"1\" class=\"dataframe\">\n",
       "  <thead>\n",
       "    <tr style=\"text-align: right;\">\n",
       "      <th></th>\n",
       "      <th>Name</th>\n",
       "      <th>Age</th>\n",
       "    </tr>\n",
       "  </thead>\n",
       "  <tbody>\n",
       "    <tr>\n",
       "      <th>0</th>\n",
       "      <td>Alice</td>\n",
       "      <td>25</td>\n",
       "    </tr>\n",
       "    <tr>\n",
       "      <th>1</th>\n",
       "      <td>Bob</td>\n",
       "      <td>28</td>\n",
       "    </tr>\n",
       "    <tr>\n",
       "      <th>2</th>\n",
       "      <td>David</td>\n",
       "      <td>30</td>\n",
       "    </tr>\n",
       "    <tr>\n",
       "      <th>3</th>\n",
       "      <td>Eva</td>\n",
       "      <td>26</td>\n",
       "    </tr>\n",
       "  </tbody>\n",
       "</table>\n",
       "</div>"
      ],
      "text/plain": [
       "    Name  Age\n",
       "0  Alice   25\n",
       "1    Bob   28\n",
       "2  David   30\n",
       "3    Eva   26"
      ]
     },
     "execution_count": 22,
     "metadata": {},
     "output_type": "execute_result"
    }
   ],
   "source": [
    "# No shared columns - vertical concatenation\n",
    "a = pd.DataFrame({'Name': ['Alice', 'Bob'], 'Age': [25, 28]})\n",
    "b = pd.DataFrame({'Name': ['David', 'Eva'], 'Age': [30, 26]})\n",
    "\n",
    "df_concat = pd.concat([a, b], ignore_index=True)\n",
    "df_concat"
   ]
  },
  {
   "cell_type": "code",
   "execution_count": 23,
   "id": "f5623847",
   "metadata": {},
   "outputs": [
    {
     "data": {
      "text/html": [
       "<div>\n",
       "<style scoped>\n",
       "    .dataframe tbody tr th:only-of-type {\n",
       "        vertical-align: middle;\n",
       "    }\n",
       "\n",
       "    .dataframe tbody tr th {\n",
       "        vertical-align: top;\n",
       "    }\n",
       "\n",
       "    .dataframe thead th {\n",
       "        text-align: right;\n",
       "    }\n",
       "</style>\n",
       "<table border=\"1\" class=\"dataframe\">\n",
       "  <thead>\n",
       "    <tr style=\"text-align: right;\">\n",
       "      <th></th>\n",
       "      <th>Name</th>\n",
       "      <th>City</th>\n",
       "    </tr>\n",
       "  </thead>\n",
       "  <tbody>\n",
       "    <tr>\n",
       "      <th>0</th>\n",
       "      <td>Alice</td>\n",
       "      <td>Vienna</td>\n",
       "    </tr>\n",
       "    <tr>\n",
       "      <th>1</th>\n",
       "      <td>Bob</td>\n",
       "      <td>Linz</td>\n",
       "    </tr>\n",
       "    <tr>\n",
       "      <th>2</th>\n",
       "      <td>Charlie</td>\n",
       "      <td>Graz</td>\n",
       "    </tr>\n",
       "  </tbody>\n",
       "</table>\n",
       "</div>"
      ],
      "text/plain": [
       "      Name    City\n",
       "0    Alice  Vienna\n",
       "1      Bob    Linz\n",
       "2  Charlie    Graz"
      ]
     },
     "execution_count": 23,
     "metadata": {},
     "output_type": "execute_result"
    }
   ],
   "source": [
    "# horizontal concatenation\n",
    "x = pd.DataFrame({'Name': ['Alice', 'Bob', 'Charlie']})\n",
    "y = pd.DataFrame({'City': ['Vienna', 'Linz', 'Graz']})\n",
    "pd.concat([x, y], axis=1)"
   ]
  },
  {
   "cell_type": "code",
   "execution_count": 24,
   "id": "727924da",
   "metadata": {},
   "outputs": [
    {
     "data": {
      "text/html": [
       "<div>\n",
       "<style scoped>\n",
       "    .dataframe tbody tr th:only-of-type {\n",
       "        vertical-align: middle;\n",
       "    }\n",
       "\n",
       "    .dataframe tbody tr th {\n",
       "        vertical-align: top;\n",
       "    }\n",
       "\n",
       "    .dataframe thead th {\n",
       "        text-align: right;\n",
       "    }\n",
       "</style>\n",
       "<table border=\"1\" class=\"dataframe\">\n",
       "  <thead>\n",
       "    <tr style=\"text-align: right;\">\n",
       "      <th></th>\n",
       "      <th>Name</th>\n",
       "      <th>City</th>\n",
       "    </tr>\n",
       "  </thead>\n",
       "  <tbody>\n",
       "    <tr>\n",
       "      <th>0</th>\n",
       "      <td>Alice</td>\n",
       "      <td>Vienna</td>\n",
       "    </tr>\n",
       "    <tr>\n",
       "      <th>1</th>\n",
       "      <td>Bob</td>\n",
       "      <td>Linz</td>\n",
       "    </tr>\n",
       "    <tr>\n",
       "      <th>2</th>\n",
       "      <td>Charlie</td>\n",
       "      <td>Graz</td>\n",
       "    </tr>\n",
       "  </tbody>\n",
       "</table>\n",
       "</div>"
      ],
      "text/plain": [
       "      Name    City\n",
       "0    Alice  Vienna\n",
       "1      Bob    Linz\n",
       "2  Charlie    Graz"
      ]
     },
     "execution_count": 24,
     "metadata": {},
     "output_type": "execute_result"
    }
   ],
   "source": [
    "# Add 'City' Column from y to x\n",
    "x['City'] = y['City']\n",
    "x"
   ]
  }
 ],
 "metadata": {
  "kernelspec": {
   "display_name": ".venv",
   "language": "python",
   "name": "python3"
  },
  "language_info": {
   "codemirror_mode": {
    "name": "ipython",
    "version": 3
   },
   "file_extension": ".py",
   "mimetype": "text/x-python",
   "name": "python",
   "nbconvert_exporter": "python",
   "pygments_lexer": "ipython3",
   "version": "3.13.7"
  }
 },
 "nbformat": 4,
 "nbformat_minor": 5
}
