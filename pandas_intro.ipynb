{
 "cells": [
  {
   "cell_type": "markdown",
   "id": "9970899b",
   "metadata": {},
   "source": [
    "# Introduction to Pandas\n",
    "In this notebook, we will learn the basics of Python's **pandas** library. Pandas is a powerful tool for data manipulation and analysis.\n",
    "\n",
    "We will cover:\n",
    "- Creating and inspecting DataFrames\n",
    "- Selecting and filtering data\n",
    "- Adding and modifying columns\n",
    "- Aggregation and group operations\n",
    "- Handling missing data\n",
    "- Reading from and writing to CSV files"
   ]
  },
  {
   "cell_type": "markdown",
   "id": "345dbcd0",
   "metadata": {},
   "source": [
    "[Docs - DataFrame](https://pandas.pydata.org/docs/reference/api/pandas.DataFrame.html)"
   ]
  },
  {
   "cell_type": "code",
   "execution_count": null,
   "id": "4a760e77",
   "metadata": {},
   "outputs": [],
   "source": [
    "!pip3 install pandas\n",
    "# import pandas\n",
    "import pandas as pd\n",
    "# from pandas import DataFrame\n",
    "\n",
    "linebreaks = '\\n'*2\n",
    "pd.set_option('display.max_rows', None)\n",
    "pd.set_option('display.max_columns', None)\n",
    "pd.set_option('display.width', None)\n",
    "pd.set_option('display.max_colwidth', None)\n"
   ]
  },
  {
   "cell_type": "markdown",
   "id": "cae40783",
   "metadata": {},
   "source": [
    "## 1. Creating DataFrames\n",
    "You can create a DataFrame from a dictionary, list of lists, or read from a CSV file."
   ]
  },
  {
   "cell_type": "code",
   "execution_count": null,
   "id": "029b7fcd",
   "metadata": {},
   "outputs": [],
   "source": [
    "data = {\n",
    "    'Name': ['Alice', 'Bob', 'Charlie', 'David', 'Eve'],\n",
    "    'Age': [24, 27, 22, 32, None],\n",
    "    'City': ['Vienna', 'Feldkirch', 'Feldkirch', 'Bregenz', None]\n",
    "}\n",
    "\n",
    "df = pd.DataFrame(data)\n",
    "print(df)\n",
    "\n",
    "df2 = pd.DataFrame([['Alice', 24], ['Bob']], columns=['Name', 'Age'], index=[100, 101])\n",
    "df2"
   ]
  },
  {
   "cell_type": "markdown",
   "id": "ded3f610",
   "metadata": {},
   "source": [
    "## 2. Inspecting DataFrames\n",
    "- `head()`, `tail()` — view first/last rows\n",
    "- `info()` — summary of DataFrame\n",
    "- `describe()` — statistics for numeric columns\n",
    "- `shape` — number of rows and columns\n",
    "- `columns` — list column names"
   ]
  },
  {
   "cell_type": "code",
   "execution_count": null,
   "id": "128d5dc6",
   "metadata": {},
   "outputs": [],
   "source": [
    "print(f\"df.head(2):\\n{df.head(2)}{linebreaks}\")\n",
    "print(f\"df.tail(2):\\n{df.tail(2)}{linebreaks}\")\n",
    "\n",
    "print(f\"df.info(): \")\n",
    "df.info()\n",
    "print(f\"{linebreaks}\")\n",
    "\n",
    "print(f\"df.describe():\\n{df.describe()}{linebreaks}\")\n",
    "print(f\"df.shape: {df.shape}{linebreaks}\")\n",
    "print(f\"df.columns: {df.columns}\")\n",
    "\n"
   ]
  },
  {
   "cell_type": "code",
   "execution_count": null,
   "id": "200ee905",
   "metadata": {},
   "outputs": [],
   "source": [
    "data = {\n",
    "    'Name': ['Alice', 'Bob', 'Charlie', 'David', 'Eva'],\n",
    "    'Age': [24, 27, 22, 32, 29],\n",
    "    'Salary': [50000, 60000, 45000, 70000, 52000],\n",
    "    'Bonus': [5000, 6000, 4000, 7000, 5500]\n",
    "}\n",
    "df3 = pd.DataFrame(data)\n",
    "df3.describe()"
   ]
  },
  {
   "cell_type": "markdown",
   "id": "c0c4def6",
   "metadata": {},
   "source": [
    "## 3. Selecting and Filtering Data\n",
    "- Selecting columns: `df['Column']` or `df.Column`\n",
    "- Selecting rows: `iloc[]` (by index), `loc[]` (by label)\n",
    "- Filtering: using boolean conditions"
   ]
  },
  {
   "cell_type": "code",
   "execution_count": null,
   "id": "241da088",
   "metadata": {},
   "outputs": [],
   "source": [
    "name = df['Name']\n",
    "print(f\"name:\\n{name}\")\n",
    "print(f\"type:\\n{type(name)}{linebreaks}\")\n",
    "\n",
    "\n",
    "row = df.iloc[1]\n",
    "print(f\"row:\\n{row}\")\n",
    "print(f\"row:\\n{type(row)}\")"
   ]
  },
  {
   "cell_type": "markdown",
   "id": "54df0e80",
   "metadata": {},
   "source": [
    "## 4. loc vs iloc"
   ]
  },
  {
   "cell_type": "markdown",
   "id": "6da9ee07",
   "metadata": {},
   "source": [
    "`loc` gets rows (and/or columns) with particular labels. <br>\n",
    "`iloc` gets rows (and/or columns) at integer locations."
   ]
  },
  {
   "cell_type": "code",
   "execution_count": null,
   "metadata": {},
   "outputs": [],
   "source": [
    "s = pd.Series(list(\"abcdefg\"), index=[49, 48, 47, 0, 1, 2, \"G\"]) \n",
    "print(f\"{s}\\n\")\n",
    "\n",
    "print(f\"{'-'*5}loc{'-'*6}\")\n",
    "print(f\"loc: {s.loc[0]}\")\n",
    "print(f\"loc: {s.loc[2]}\")\n",
    "print(f\"loc: {s.loc[\"G\"]}\\n\")\n",
    "\n",
    "print(f\"{'-'*5}iloc{'-'*5}\")\n",
    "print(f\"iloc: {s.iloc[0]}\")\n",
    "print(f\"iloc: {s.iloc[2]}\\n\")\n",
    "\n",
    "\n",
    "print(f\"{'-'*14}\")\n",
    "print(s.loc[[0, 2]])\n",
    "s.iloc[[0, 2]]\n"
   ]
  },
  {
   "cell_type": "markdown",
   "id": "312ea2ae",
   "metadata": {},
   "source": [
    "## 5 - Filter"
   ]
  },
  {
   "cell_type": "code",
   "execution_count": null,
   "id": "ee3f296e",
   "metadata": {},
   "outputs": [],
   "source": [
    "print(f\"{[df['Age'] > 25]}\\n\\n\")\n",
    " \n",
    "new_df = df[df['Age'] > 25]\n",
    "print(f\"type(new_df): {type(new_df)}\\n\")\n",
    "new_df"
   ]
  },
  {
   "cell_type": "code",
   "execution_count": null,
   "id": "d413e8b3",
   "metadata": {},
   "outputs": [],
   "source": [
    "print(df[(df['Age'] > 25) & (df['City'] == \"Bregenz\")])\n",
    "df[(df['Age'] < 25) | (df['City'] == \"Vienna\")]"
   ]
  },
  {
   "cell_type": "markdown",
   "id": "b14cb2fb",
   "metadata": {},
   "source": [
    "## 6. Adding and Modifying Columns"
   ]
  },
  {
   "cell_type": "code",
   "execution_count": null,
   "id": "9cfb1a0b",
   "metadata": {},
   "outputs": [],
   "source": [
    "df"
   ]
  },
  {
   "cell_type": "code",
   "execution_count": null,
   "id": "23f45a1f",
   "metadata": {},
   "outputs": [],
   "source": [
    "df['Student'] = [True, False, True, False, False]\n",
    "print(df)\n",
    "\n",
    "df['Age'] = df['Age'] + 1\n",
    "df"
   ]
  },
  {
   "cell_type": "code",
   "execution_count": null,
   "id": "b81c9a42",
   "metadata": {},
   "outputs": [],
   "source": [
    "df_new = df.copy()\n",
    "df_new['City'] = df_new['City'].fillna('Unknown') + \" text\"\n",
    "print(df_new)\n",
    "\n",
    "# df_str_concat = df.assign(City=df['City'].fillna('Unknown') + \" text\")\n",
    "# print(df_str_concat)"
   ]
  },
  {
   "cell_type": "code",
   "execution_count": null,
   "id": "4ba9f255",
   "metadata": {},
   "outputs": [],
   "source": [
    "df[df['Name'].str.contains('o')]"
   ]
  },
  {
   "cell_type": "code",
   "execution_count": null,
   "id": "a002f954",
   "metadata": {},
   "outputs": [],
   "source": [
    "print(df[df['City'].str.contains('Br', na=False)])\n",
    "\n",
    "df[df['Name'].apply(lambda x: len(x) > 3)]"
   ]
  },
  {
   "cell_type": "code",
   "execution_count": null,
   "id": "584b53b7",
   "metadata": {},
   "outputs": [],
   "source": [
    "# df.drop([1, 3])"
   ]
  },
  {
   "cell_type": "markdown",
   "id": "a35ebf8e",
   "metadata": {},
   "source": [
    "## 7. Aggregation and Group Operations\n",
    "- `mean()`, `sum()`, `min()`, `max()` — basic statistics\n",
    "- `groupby()` — group data by column and aggregate"
   ]
  },
  {
   "cell_type": "code",
   "execution_count": null,
   "id": "7499f6b1",
   "metadata": {},
   "outputs": [],
   "source": [
    "print(f\"{df['Age'].mean()}\\n\")\n",
    "print(f\"{df.groupby('City')['Age'].mean()}\\n\")\n",
    "\n",
    "\n",
    "gen_object = df.groupby('Age')['City']\n",
    "print(gen_object)\n",
    "# for age, cities in df.groupby('Age')['City']:\n",
    "#     print(f\"Age: {age}\")\n",
    "#     print(cities)\n",
    "\n",
    "[obj for obj in gen_object]"
   ]
  },
  {
   "cell_type": "code",
   "execution_count": null,
   "id": "10d4dc89",
   "metadata": {},
   "outputs": [],
   "source": [
    "print(f\"Average age: {df['Age'].mean()}\\n\")                     \n",
    "print(f\"{df.groupby('City')['Age'].mean()}\\n\")                     \n",
    "print(f\"{df.groupby('Student')['Age'].mean()}\\n\")                  \n",
    "print(f\"{df.groupby('City')['Age'].agg(['mean', 'count'])}\\n\")     \n",
    "print(f\"{df.groupby('City').agg({'Age': 'mean', 'Student': 'sum'})}\\n\")  \n"
   ]
  },
  {
   "cell_type": "markdown",
   "id": "5a3a5d24",
   "metadata": {},
   "source": [
    "## 8. Handling Missing Data\n",
    "- `isnull()` — check for missing values\n",
    "- `dropna()` — remove missing data\n",
    "- `fillna()` — fill missing data"
   ]
  },
  {
   "cell_type": "code",
   "execution_count": null,
   "id": "1c6a220a",
   "metadata": {},
   "outputs": [],
   "source": [
    "print(f\"{df.isnull()}\\n\")\n",
    "\n",
    "df['Age'] = df['Age'].fillna(df['Age'].mean())\n",
    "print(f\"{df}\\n\")\n",
    "\n",
    "df['City'] = df['City'].dropna()\n",
    "print(f\"{df}\\n\")\n",
    "\n",
    "df['City'] = df['City'].fillna(\"Unknown\")\n",
    "print(df)"
   ]
  },
  {
   "cell_type": "markdown",
   "id": "1b6a02b2",
   "metadata": {},
   "source": [
    "## 9. Reading and Writing CSV Files\n",
    "- `read_csv()` — read CSV\n",
    "- `to_csv()` — write CSV"
   ]
  },
  {
   "cell_type": "code",
   "execution_count": null,
   "id": "39e32ba7",
   "metadata": {},
   "outputs": [],
   "source": [
    "df.to_csv('example.csv', index=False)\n",
    "# sep, columns, header, encoding, na_rep, float_format, line_terminator, quotechar, dateformat\n",
    "\n",
    "df2 = pd.read_csv('example.csv')\n",
    "# sep, header, names, usecols, index_col, nrows, skiprows, na_values, dtype, parse_dates, encoding\n",
    "df2"
   ]
  },
  {
   "cell_type": "code",
   "execution_count": null,
   "id": "6473efb4",
   "metadata": {},
   "outputs": [],
   "source": [
    "df.to_csv('example.csv', index=False, sep=';')\n",
    "df_loaded = pd.read_csv('example.csv', sep=';')\n",
    "print(df_loaded.equals(df))"
   ]
  },
  {
   "cell_type": "markdown",
   "id": "1e5f29d1",
   "metadata": {},
   "source": [
    "## 10. Join dataframes"
   ]
  },
  {
   "cell_type": "code",
   "execution_count": null,
   "id": "c3ad6ce4",
   "metadata": {},
   "outputs": [],
   "source": [
    "# Share a column\n",
    "first_df = pd.DataFrame({\n",
    "    'ID': [1, 2, 3],\n",
    "    'Name': ['Alice', 'Bob', 'Charlie'],\n",
    "    'Age': [25, 28, 23]\n",
    "})\n",
    "\n",
    "second_df = pd.DataFrame({\n",
    "    'ID': [1, 2, 4],\n",
    "    'City': ['Vienna', 'Linz', 'Graz']\n",
    "})\n",
    "\n",
    "df_inner = pd.merge(first_df, second_df, on='ID', how='inner') # left, right,, outer\n",
    "df_inner"
   ]
  },
  {
   "cell_type": "code",
   "execution_count": null,
   "id": "9a8fa70c",
   "metadata": {},
   "outputs": [],
   "source": [
    "# No shared columns - vertical concatenation\n",
    "a = pd.DataFrame({'Name': ['Alice', 'Bob'], 'Age': [25, 28]})\n",
    "b = pd.DataFrame({'Name': ['David', 'Eva'], 'Age': [30, 26]})\n",
    "\n",
    "df_concat = pd.concat([a, b], ignore_index=True)\n",
    "df_concat"
   ]
  },
  {
   "cell_type": "code",
   "execution_count": null,
   "id": "f5623847",
   "metadata": {},
   "outputs": [],
   "source": [
    "# horizontal concatenation\n",
    "x = pd.DataFrame({'Name': ['Alice', 'Bob', 'Charlie']})\n",
    "y = pd.DataFrame({'City': ['Vienna', 'Linz', 'Graz']})\n",
    "pd.concat([x, y], axis=1)"
   ]
  },
  {
   "cell_type": "code",
   "execution_count": null,
   "id": "727924da",
   "metadata": {},
   "outputs": [],
   "source": [
    "# Add 'City' Column from y to x\n",
    "x['City'] = y['City']\n",
    "x"
   ]
  }
 ],
 "metadata": {
  "kernelspec": {
   "display_name": ".venv",
   "language": "python",
   "name": "python3"
  },
  "language_info": {
   "codemirror_mode": {
    "name": "ipython",
    "version": 3
   },
   "file_extension": ".py",
   "mimetype": "text/x-python",
   "name": "python",
   "nbconvert_exporter": "python",
   "pygments_lexer": "ipython3",
   "version": "3.13.7"
  }
 },
 "nbformat": 4,
 "nbformat_minor": 5
}
